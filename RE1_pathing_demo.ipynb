{
 "cells": [
  {
   "cell_type": "code",
   "execution_count": 1,
   "metadata": {},
   "outputs": [],
   "source": [
    "%load_ext autoreload\n",
    "%autoreload 2 \n",
    "\n",
    "import numpy as np\n",
    "%matplotlib inline\n"
   ]
  },
  {
   "cell_type": "code",
   "execution_count": 2,
   "metadata": {},
   "outputs": [
    {
     "name": "stdout",
     "output_type": "stream",
     "text": [
      "[[606.46295166   0.         323.97521973]\n",
      " [  0.         606.402771   234.81144714]\n",
      " [  0.           0.           1.        ]]\n",
      "[[ 0.00164891  0.         -0.53420447]\n",
      " [ 0.          0.00164907 -0.38722027]\n",
      " [ 0.          0.          1.        ]]\n",
      "Jupyter environment detected. Enabling Open3D WebVisualizer.\n",
      "[Open3D INFO] WebRTC GUI backend enabled.\n",
      "[Open3D INFO] WebRTCWindowSystem: HTTP handshake server disabled.\n",
      "[[ 0.98966507 -0.06517314  0.12773222  0.01257551]\n",
      " [ 0.12879091  0.01229289 -0.99159558  0.02102222]\n",
      " [ 0.0630552   0.99779825  0.02055955  1.32158661]\n",
      " [ 0.          0.          0.          1.        ]]\n"
     ]
    }
   ],
   "source": [
    "# from re1_utils.camera import get_rs_extrinsic_mat\n",
    "# extrinsic_mat = get_rs_extrinsic_mat(type = 'cam2base')\n",
    "from re1_utils.camera import get_rs_intrinsic_mat\n",
    "intrinsic_mat = get_rs_intrinsic_mat()\n",
    "print(intrinsic_mat)\n",
    "inv_intrinsic_mat = np.linalg.inv(intrinsic_mat)\n",
    "print(inv_intrinsic_mat)\n",
    "from re1_utils.camera import get_rs_extrinsic_mat\n",
    "inv_extrinsic_mat = get_rs_extrinsic_mat(type = 'cam2base')\n",
    "print(inv_extrinsic_mat)\n"
   ]
  },
  {
   "cell_type": "code",
   "execution_count": 15,
   "metadata": {},
   "outputs": [],
   "source": [
    "from POI.object_of_interest import OOI\n",
    "pred =np.array(\n",
    "[[         70         479         116         628     0.89845          39]\n",
    " [        199         492         249         633     0.87461          39]\n",
    " [        218         256         258         367     0.34034          39]\n",
    ")\n",
    "depths = [1.2018723487854004, 1.1422603130340576, 1.3461313247680664]\n",
    "all_objects = []\n",
    "for i in range(pred.shape[0]):\n",
    "    coord = pred[i, :]\n",
    "    obj = OOI(\n",
    "        img_coord = np.array([(coord[2]+coord[0])/2,(coord[3]+coord[1])/2]), \n",
    "        depth = depths[i],\n",
    "        obj_class = int(coord[-1]),\n",
    "        obj_atributes = 'None', \n",
    "        bbox = ((coord[0],coord[1]),(coord[2],coord[3])),\n",
    "        conf_score = coord[4],\n",
    "        eid = i\n",
    "    )\n",
    "    all_objects.append(obj)"
   ]
  },
  {
   "cell_type": "code",
   "execution_count": 16,
   "metadata": {},
   "outputs": [],
   "source": [
    "landmarks = {'locations': {}, 'objects': {}}\n",
    "for i, object in enumerate(all_objects):\n",
    "    landmarks['objects'][i] = object\n",
    "    landmarks['objects'][i].set_cam_coord(inv_intrinsic_mat)\n",
    "    landmarks['objects'][i].set_world_coord(inv_extrinsic_mat)"
   ]
  },
  {
   "cell_type": "code",
   "execution_count": 20,
   "metadata": {},
   "outputs": [
    {
     "name": "stdout",
     "output_type": "stream",
     "text": [
      "bottle [ 39.  537.5]\n",
      "[-0.55005985  0.58430815  1.17059624]\n",
      "[-0.58430815  0.55005985 -1.17059624] [-0.64281332  1.16932782  1.82862481]\n",
      "bottle [173. 541.]\n",
      "[-0.30069887  0.60989935  1.20789838]\n",
      "[-0.60989935  0.30069887 -1.20789838] [-0.66118437  1.20129449  1.5778901 ]\n",
      "bottle [186.5 293. ]\n",
      "[-0.31226265  0.1321832   1.37752628]\n",
      "[-0.1321832   0.31226265 -1.37752628] [-0.19230521  1.39271996  1.60296376]\n"
     ]
    }
   ],
   "source": [
    "for i, object in enumerate(all_objects):\n",
    "    print(landmarks['objects'][i].obj_name, landmarks['objects'][i].img_coord[:-1])\n",
    "    print(landmarks['objects'][i].temp_cam_coord)\n",
    "    print(landmarks['objects'][i].cam_coord,landmarks['objects'][i].base_coord)\n",
    "    "
   ]
  },
  {
   "cell_type": "code",
   "execution_count": 21,
   "metadata": {},
   "outputs": [],
   "source": [
    "from planning.path_planner import PathPlanner\n",
    "path_planner = PathPlanner(landmark_dict=landmarks)\n",
    "\n",
    "#z is height, upwards\n",
    "#y is depth distance, forwards"
   ]
  },
  {
   "cell_type": "code",
   "execution_count": 22,
   "metadata": {},
   "outputs": [
    {
     "name": "stdout",
     "output_type": "stream",
     "text": [
      "(-0.642813320957718, 1.8286248115702397)\n",
      "(-0.6611843660156295, 1.57789009967874)\n",
      "(-0.1923052085813946, 1.6029637584783119)\n"
     ]
    },
    {
     "data": {
      "image/png": "[encoded data removed]",
      "text/plain": [
       "<PIL.Image.Image image mode=RGB size=360x640>"
      ]
     },
     "metadata": {},
     "output_type": "display_data"
    }
   ],
   "source": [
    "path_planner.viz_base(coord_type='xz')\n"
   ]
  },
  {
   "cell_type": "code",
   "execution_count": 11,
   "metadata": {},
   "outputs": [
    {
     "name": "stdout",
     "output_type": "stream",
     "text": [
      "(-0.6037338942990423, 1.1511367715657013)\n",
      "(-0.6398209828785149, 1.1913500670112558)\n",
      "(-0.17012026762516808, 1.3823931145483426)\n"
     ]
    },
    {
     "data": {
      "image/png": "[encoded data removed]",
      "text/plain": [
       "<PIL.Image.Image image mode=RGB size=360x640>"
      ]
     },
     "metadata": {},
     "output_type": "display_data"
    }
   ],
   "source": [
    "path_planner.viz_base(coord_type='xy')"
   ]
  },
  {
   "cell_type": "code",
   "execution_count": null,
   "metadata": {},
   "outputs": [],
   "source": []
  }
 ],
 "metadata": {
  "kernelspec": {
   "display_name": "RE1",
   "language": "python",
   "name": "re1"
  },
  "language_info": {
   "codemirror_mode": {
    "name": "ipython",
    "version": 3
   },
   "file_extension": ".py",
   "mimetype": "text/x-python",
   "name": "python",
   "nbconvert_exporter": "python",
   "pygments_lexer": "ipython3",
   "version": "3.8.13"
  },
  "vscode": {
   "interpreter": {
    "hash": "8adaea0cd583027a5b634f4d6ccd799684216a4819888a50ecfa92c454cbaa5c"
   }
  }
 },
 "nbformat": 4,
 "nbformat_minor": 4
}
