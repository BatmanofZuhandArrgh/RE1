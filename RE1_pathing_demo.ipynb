{
 "cells": [
  {
   "cell_type": "code",
   "execution_count": 1,
   "metadata": {},
   "outputs": [],
   "source": [
    "%load_ext autoreload\n",
    "%autoreload 2 \n",
    "\n",
    "import numpy as np\n",
    "%matplotlib inline\n"
   ]
  },
  {
   "cell_type": "code",
   "execution_count": 2,
   "metadata": {},
   "outputs": [
    {
     "name": "stdout",
     "output_type": "stream",
     "text": [
      "[[606.46295166   0.         323.97521973]\n",
      " [  0.         606.402771   234.81144714]\n",
      " [  0.           0.           1.        ]]\n",
      "[[ 0.00164891  0.         -0.53420447]\n",
      " [ 0.          0.00164907 -0.38722027]\n",
      " [ 0.          0.          1.        ]]\n"
     ]
    },
    {
     "name": "stderr",
     "output_type": "stream",
     "text": [
      "[ERROR] [pimu]: Transport RX Error on RPC_GET_BLOCK 0 0 106\n",
      "[ERROR] [pimu]: TransportError: /dev/hello-pimu : \n"
     ]
    },
    {
     "name": "stdout",
     "output_type": "stream",
     "text": [
      "Jupyter environment detected. Enabling Open3D WebVisualizer.\n",
      "[Open3D INFO] WebRTC GUI backend enabled.\n",
      "[Open3D INFO] WebRTCWindowSystem: HTTP handshake server disabled.\n",
      "[[ 0.99934965 -0.03068156  0.01894536  0.01275059]\n",
      " [ 0.01946929  0.01686887 -0.99966814  0.0166363 ]\n",
      " [ 0.03035179  0.99938685  0.01745525  1.22929639]\n",
      " [ 0.          0.          0.          1.        ]]\n"
     ]
    }
   ],
   "source": [
    "# from re1_utils.camera import get_rs_extrinsic_mat\n",
    "# extrinsic_mat = get_rs_extrinsic_mat(type = 'cam2base')\n",
    "from re1_utils.camera import get_rs_intrinsic_mat\n",
    "intrinsic_mat = get_rs_intrinsic_mat()\n",
    "print(intrinsic_mat)\n",
    "inv_intrinsic_mat = np.linalg.inv(intrinsic_mat)\n",
    "print(inv_intrinsic_mat)\n",
    "from re1_utils.camera import get_rs_extrinsic_mat\n",
    "inv_extrinsic_mat = get_rs_extrinsic_mat(type = 'cam2base')\n",
    "print(inv_extrinsic_mat)\n"
   ]
  },
  {
   "cell_type": "code",
   "execution_count": 15,
   "metadata": {},
   "outputs": [],
   "source": [
    "from POI.object_of_interest import OOI\n",
    "pred =np.array( \n",
    "[[        332,         464,         381,         596,     0.88139,          39],\n",
    " [        201,         454,         245,         599,     0.86773,          39],\n",
    " [        168,         236,         204,         346,     0.50883,          39]]\n",
    ")\n",
    "depths = [1.308000087738037, 1.249000072479248, 1.3020000457763672]\n",
    "all_objects = []\n",
    "for i in range(pred.shape[0]):\n",
    "    coord = pred[i, :]\n",
    "    obj = OOI(\n",
    "        img_coord = np.array([(coord[2]+coord[0])/2,(coord[3]+coord[1])/2]), \n",
    "        depth = depths[i],\n",
    "        obj_class = int(coord[-1]),\n",
    "        obj_atributes = 'None', \n",
    "        bbox = ((coord[0],coord[1]),(coord[2],coord[3])),\n",
    "        conf_score = coord[4],\n",
    "        eid = i\n",
    "    )\n",
    "    all_objects.append(obj)"
   ]
  },
  {
   "cell_type": "code",
   "execution_count": 16,
   "metadata": {},
   "outputs": [],
   "source": [
    "landmarks = {'locations': {}, 'objects': {}}\n",
    "for i, object in enumerate(all_objects):\n",
    "    landmarks['objects'][i] = object\n",
    "    landmarks['objects'][i].set_cam_coord(inv_intrinsic_mat)\n",
    "    landmarks['objects'][i].set_world_coord(inv_extrinsic_mat)"
   ]
  },
  {
   "cell_type": "code",
   "execution_count": 17,
   "metadata": {},
   "outputs": [
    {
     "name": "stdout",
     "output_type": "stream",
     "text": [
      "bottle [356.5 530. ]\n",
      "[0.07014842 0.63671651 1.30800009] [ 0.08809845 -1.27882328  1.89058309]\n",
      "bottle [223.  526.5]\n",
      "[-0.20795674  0.6007872   1.24900007] [-0.18984124 -1.22586345  1.84520497]\n",
      "bottle [186. 291.]\n",
      "[-0.29621553  0.12064176  1.30200005] [-0.26230692 -1.28866368  1.36360024]\n"
     ]
    }
   ],
   "source": [
    "for i, object in enumerate(all_objects):\n",
    "    print(landmarks['objects'][i].obj_name, landmarks['objects'][i].img_coord[:-1])\n",
    "    print(landmarks['objects'][i].cam_coord,landmarks['objects'][i].base_coord)\n",
    "    \n",
    "    #X seems to be horizontal to the left\n",
    "    #Y seems to be depth into the camera as positive\n",
    "    #Z seems to be height, positive as upwards"
   ]
  },
  {
   "cell_type": "code",
   "execution_count": 18,
   "metadata": {},
   "outputs": [],
   "source": [
    "from planning.path_planner import PathPlanner\n",
    "path_planner = PathPlanner(landmark_dict=landmarks)\n"
   ]
  },
  {
   "cell_type": "code",
   "execution_count": 19,
   "metadata": {},
   "outputs": [
    {
     "data": {
      "image/png": "[encoded data removed]",
      "text/plain": [
       "<Figure size 640x480 with 1 Axes>"
      ]
     },
     "metadata": {},
     "output_type": "display_data"
    }
   ],
   "source": [
    "path_planner.viz(plane_type='xz')\n"
   ]
  },
  {
   "cell_type": "code",
   "execution_count": 20,
   "metadata": {},
   "outputs": [
    {
     "data": {
      "image/png": "[encoded data removed]",
      "text/plain": [
       "<Figure size 640x480 with 1 Axes>"
      ]
     },
     "metadata": {},
     "output_type": "display_data"
    }
   ],
   "source": [
    "path_planner.viz(plane_type='xy')"
   ]
  },
  {
   "cell_type": "code",
   "execution_count": null,
   "metadata": {},
   "outputs": [],
   "source": []
  }
 ],
 "metadata": {
  "kernelspec": {
   "display_name": "RE1",
   "language": "python",
   "name": "re1"
  },
  "language_info": {
   "codemirror_mode": {
    "name": "ipython",
    "version": 3
   },
   "file_extension": ".py",
   "mimetype": "text/x-python",
   "name": "python",
   "nbconvert_exporter": "python",
   "pygments_lexer": "ipython3",
   "version": "3.8.13"
  },
  "vscode": {
   "interpreter": {
    "hash": "8adaea0cd583027a5b634f4d6ccd799684216a4819888a50ecfa92c454cbaa5c"
   }
  }
 },
 "nbformat": 4,
 "nbformat_minor": 4
}
