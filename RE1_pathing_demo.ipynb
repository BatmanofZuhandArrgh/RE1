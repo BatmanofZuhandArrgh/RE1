{
 "cells": [
  {
   "cell_type": "code",
   "execution_count": 6,
   "metadata": {},
   "outputs": [
    {
     "name": "stdout",
     "output_type": "stream",
     "text": [
      "The autoreload extension is already loaded. To reload it, use:\n",
      "  %reload_ext autoreload\n"
     ]
    }
   ],
   "source": [
    "%load_ext autoreload\n",
    "%autoreload 2 \n",
    "\n",
    "import numpy as np\n",
    "%matplotlib inline\n"
   ]
  },
  {
   "cell_type": "code",
   "execution_count": 27,
   "metadata": {},
   "outputs": [],
   "source": [
    "# from re1_utils.camera import get_rs_extrinsic_mat\n",
    "# extrinsic_mat = get_rs_extrinsic_mat(type = 'cam2base')\n",
    "inv_extrinsic_mat = np.array(\\\n",
    "[[    0.99917,   -0.036799,    0.017461,    0.012127],\n",
    " [   0.018093,    0.016906,    -0.99969,    0.016835],\n",
    " [   0.036493,     0.99918,    0.017558,      1.2441],\n",
    " [          0,           0,           0,           1]]\n",
    ")\n",
    "\n",
    "inv_intrinsic_mat = np.array(\n",
    "[[  0.0016489,           0,     -0.5342],\n",
    " [          0,   0.0016491,    -0.38722],\n",
    " [          0,           0,           1]]\n",
    ")"
   ]
  },
  {
   "cell_type": "code",
   "execution_count": 21,
   "metadata": {},
   "outputs": [],
   "source": [
    "from POI.object_of_interest import OOI\n",
    "pred =np.array( \n",
    "[[        121,         342,         296,         628,     0.89368,          56,],\n",
    " [        351,         398,         456,         595,     0.88076,          56,],\n",
    " [        243,         303,         380,         373,     0.81538,          62,],\n",
    " [        221,         521,         250,         610,     0.45188,          39,],\n",
    " [        402,         345,         421,         394,     0.42215,          39,],\n",
    " [        291,         375,         401,         398,     0.36896,          66,],\n",
    " [        402,         345,         421,         394,     0.36451,          41] ])\n",
    "depths = [2.69, 3.32, 3.13, 1.89, 3.32, 3.07, 3.32]\n",
    "all_objects = []\n",
    "for i in range(pred.shape[0]):\n",
    "    coord = pred[i, :]\n",
    "    obj = OOI(\n",
    "        img_coord = np.array([(coord[2]-coord[0])/2,(coord[3]-coord[1])/2]), \n",
    "        depth = depths[i],\n",
    "        obj_class = int(coord[-1]),\n",
    "        obj_atributes = 'None', \n",
    "        bbox = ((coord[0],coord[1]),(coord[2],coord[3])),\n",
    "        conf_score = coord[4],\n",
    "        eid = i\n",
    "    )\n",
    "    all_objects.append(obj)"
   ]
  },
  {
   "cell_type": "code",
   "execution_count": 28,
   "metadata": {},
   "outputs": [],
   "source": [
    "landmarks = {'locations': {}, 'objects': {}}\n",
    "for i, object in enumerate(all_objects):\n",
    "    landmarks['objects'][i] = object\n",
    "    landmarks['objects'][i].set_cam_coord(inv_intrinsic_mat)\n",
    "    landmarks['objects'][i].set_world_coord(inv_extrinsic_mat)"
   ]
  },
  {
   "cell_type": "code",
   "execution_count": 31,
   "metadata": {},
   "outputs": [
    {
     "name": "stdout",
     "output_type": "stream",
     "text": [
      "[-1.04888816 -0.4072625   2.69      ] [-0.97393364 -2.69819381  0.8461254 ]\n",
      "[-1.48614073 -0.74628172  3.32      ] [-1.38734729 -3.34164118  0.50248906]\n",
      "[-1.3185136 -1.0313397  3.13     ] [-1.21268703 -3.1534864   0.22044603]\n",
      "[-0.9644499  -0.59314824  1.89      ] [-0.89669385 -1.90005666  0.64942709]\n",
      "[-1.72153769 -1.15143261  3.32      ] [-1.60763973 -3.3527497   0.08908005]\n",
      "[-1.36157723 -1.13054392  3.07      ] [-1.25311197 -3.09596129  0.11869814]\n",
      "[-1.72153769 -1.15143261  3.32      ] [-1.60763973 -3.3527497   0.08908005]\n"
     ]
    }
   ],
   "source": [
    "for i, object in enumerate(all_objects):\n",
    "    print(landmarks['objects'][i].cam_coord,landmarks['objects'][i].base_coord)"
   ]
  },
  {
   "cell_type": "code",
   "execution_count": 67,
   "metadata": {},
   "outputs": [],
   "source": [
    "from planning.path_planner import PathPlanner\n",
    "path_planner = PathPlanner(landmark_dict=landmarks)\n"
   ]
  },
  {
   "cell_type": "code",
   "execution_count": 68,
   "metadata": {},
   "outputs": [
    {
     "name": "stderr",
     "output_type": "stream",
     "text": [
      "Clipping input data to the valid range for imshow with RGB data ([0..1] for floats or [0..255] for integers).\n"
     ]
    },
    {
     "data": {
      "image/png": "[encoded data removed]",
      "text/plain": [
       "<Figure size 640x480 with 1 Axes>"
      ]
     },
     "metadata": {},
     "output_type": "display_data"
    }
   ],
   "source": [
    "path_planner.viz()\n"
   ]
  },
  {
   "cell_type": "code",
   "execution_count": null,
   "metadata": {},
   "outputs": [],
   "source": []
  }
 ],
 "metadata": {
  "kernelspec": {
   "display_name": "Python 3.8.13 ('base')",
   "language": "python",
   "name": "python3"
  },
  "language_info": {
   "codemirror_mode": {
    "name": "ipython",
    "version": 3
   },
   "file_extension": ".py",
   "mimetype": "text/x-python",
   "name": "python",
   "nbconvert_exporter": "python",
   "pygments_lexer": "ipython3",
   "version": "3.8.13"
  },
  "orig_nbformat": 4,
  "vscode": {
   "interpreter": {
    "hash": "8adaea0cd583027a5b634f4d6ccd799684216a4819888a50ecfa92c454cbaa5c"
   }
  }
 },
 "nbformat": 4,
 "nbformat_minor": 2
}
