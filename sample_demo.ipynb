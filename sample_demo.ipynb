{
 "cells": [
  {
   "cell_type": "code",
   "execution_count": 6,
   "id": "33aa1904",
   "metadata": {},
   "outputs": [],
   "source": [
    "import cv2\n",
    "import numpy as np\n",
    "from torch import device\n",
    "import sys\n",
    "sys.path.append('./yolov7/')\n",
    "\n",
    "from yolov7.predict import load_model, preprocessing, \\\n",
    "    postprocessing, load_config"
   ]
  },
  {
   "cell_type": "code",
   "execution_count": 9,
   "id": "27e4ebd9",
   "metadata": {},
   "outputs": [],
   "source": [
    "#Load config from yaml\n",
    "CONFIG_PATH = './yolov7/predict_config.yaml'\n",
    "config_dict = load_config(CONFIG_PATH)\n",
    "\n",
    "#Read img0 to BGR\n",
    "img0 = cv2.imread('./yolov7/inference/images/image1.jpg')\n",
    "original_shape = img0.shape "
   ]
  },
  {
   "cell_type": "code",
   "execution_count": 10,
   "id": "594c2503",
   "metadata": {},
   "outputs": [
    {
     "name": "stderr",
     "output_type": "stream",
     "text": [
      "YOLOR 🚀 a0bbdb1 torch 1.12.1+cu102 CPU\n",
      "\n"
     ]
    },
    {
     "ename": "IndexError",
     "evalue": "list index out of range",
     "output_type": "error",
     "traceback": [
      "\u001b[0;31m---------------------------------------------------------------------------\u001b[0m",
      "\u001b[0;31mKeyError\u001b[0m                                  Traceback (most recent call last)",
      "File \u001b[0;32m~/Documents/RE1/./yolov7/utils/google_utils.py:26\u001b[0m, in \u001b[0;36mattempt_download\u001b[0;34m(file, repo)\u001b[0m\n\u001b[1;32m     25\u001b[0m response \u001b[38;5;241m=\u001b[39m requests\u001b[38;5;241m.\u001b[39mget(\u001b[38;5;124mf\u001b[39m\u001b[38;5;124m'\u001b[39m\u001b[38;5;124mhttps://api.github.com/repos/\u001b[39m\u001b[38;5;132;01m{\u001b[39;00mrepo\u001b[38;5;132;01m}\u001b[39;00m\u001b[38;5;124m/releases/latest\u001b[39m\u001b[38;5;124m'\u001b[39m)\u001b[38;5;241m.\u001b[39mjson()  \u001b[38;5;66;03m# github api\u001b[39;00m\n\u001b[0;32m---> 26\u001b[0m assets \u001b[38;5;241m=\u001b[39m [x[\u001b[38;5;124m'\u001b[39m\u001b[38;5;124mname\u001b[39m\u001b[38;5;124m'\u001b[39m] \u001b[38;5;28;01mfor\u001b[39;00m x \u001b[38;5;129;01min\u001b[39;00m \u001b[43mresponse\u001b[49m\u001b[43m[\u001b[49m\u001b[38;5;124;43m'\u001b[39;49m\u001b[38;5;124;43massets\u001b[39;49m\u001b[38;5;124;43m'\u001b[39;49m\u001b[43m]\u001b[49m]  \u001b[38;5;66;03m# release assets\u001b[39;00m\n\u001b[1;32m     27\u001b[0m tag \u001b[38;5;241m=\u001b[39m response[\u001b[38;5;124m'\u001b[39m\u001b[38;5;124mtag_name\u001b[39m\u001b[38;5;124m'\u001b[39m]  \u001b[38;5;66;03m# i.e. 'v1.0'\u001b[39;00m\n",
      "\u001b[0;31mKeyError\u001b[0m: 'assets'",
      "\nDuring handling of the above exception, another exception occurred:\n",
      "\u001b[0;31mIndexError\u001b[0m                                Traceback (most recent call last)",
      "Cell \u001b[0;32mIn [10], line 2\u001b[0m\n\u001b[1;32m      1\u001b[0m \u001b[38;5;66;03m#Load model\u001b[39;00m\n\u001b[0;32m----> 2\u001b[0m model, stride, device \u001b[38;5;241m=\u001b[39m \u001b[43mload_model\u001b[49m\u001b[43m(\u001b[49m\u001b[43mconfig_dict\u001b[49m\u001b[43m,\u001b[49m\u001b[43m \u001b[49m\u001b[38;5;124;43m'\u001b[39;49m\u001b[38;5;124;43m./yolov7.pt\u001b[39;49m\u001b[38;5;124;43m'\u001b[39;49m\u001b[43m)\u001b[49m\n",
      "File \u001b[0;32m~/Documents/RE1/yolov7/predict.py:33\u001b[0m, in \u001b[0;36mload_model\u001b[0;34m(config_dict, weight_path)\u001b[0m\n\u001b[1;32m     30\u001b[0m \u001b[38;5;66;03m# Load model\u001b[39;00m\n\u001b[1;32m     31\u001b[0m \u001b[38;5;66;03m# weight_path parameters overwrites the path in config dict if is not None\u001b[39;00m\n\u001b[1;32m     32\u001b[0m model_path \u001b[38;5;241m=\u001b[39m weight_path \u001b[38;5;28;01mif\u001b[39;00m weight_path \u001b[38;5;129;01mis\u001b[39;00m \u001b[38;5;129;01mnot\u001b[39;00m \u001b[38;5;28;01mNone\u001b[39;00m \u001b[38;5;28;01melse\u001b[39;00m config_dict[\u001b[38;5;124m'\u001b[39m\u001b[38;5;124mweights\u001b[39m\u001b[38;5;124m'\u001b[39m]\n\u001b[0;32m---> 33\u001b[0m model \u001b[38;5;241m=\u001b[39m \u001b[43mattempt_load\u001b[49m\u001b[43m(\u001b[49m\u001b[43mmodel_path\u001b[49m\u001b[43m,\u001b[49m\u001b[43m \u001b[49m\u001b[43mmap_location\u001b[49m\u001b[38;5;241;43m=\u001b[39;49m\u001b[43mdevice\u001b[49m\u001b[43m)\u001b[49m  \u001b[38;5;66;03m# load FP32 model\u001b[39;00m\n\u001b[1;32m     34\u001b[0m stride \u001b[38;5;241m=\u001b[39m \u001b[38;5;28mint\u001b[39m(model\u001b[38;5;241m.\u001b[39mstride\u001b[38;5;241m.\u001b[39mmax())  \u001b[38;5;66;03m# model stride\u001b[39;00m\n\u001b[1;32m     35\u001b[0m imgsz \u001b[38;5;241m=\u001b[39m check_img_size(config_dict[\u001b[38;5;124m'\u001b[39m\u001b[38;5;124mimg_size\u001b[39m\u001b[38;5;124m'\u001b[39m], s\u001b[38;5;241m=\u001b[39mstride)  \u001b[38;5;66;03m# check img_size\u001b[39;00m\n",
      "File \u001b[0;32m~/Documents/RE1/./yolov7/models/experimental.py:251\u001b[0m, in \u001b[0;36mattempt_load\u001b[0;34m(weights, map_location)\u001b[0m\n\u001b[1;32m    249\u001b[0m model \u001b[38;5;241m=\u001b[39m Ensemble()\n\u001b[1;32m    250\u001b[0m \u001b[38;5;28;01mfor\u001b[39;00m w \u001b[38;5;129;01min\u001b[39;00m weights \u001b[38;5;28;01mif\u001b[39;00m \u001b[38;5;28misinstance\u001b[39m(weights, \u001b[38;5;28mlist\u001b[39m) \u001b[38;5;28;01melse\u001b[39;00m [weights]:\n\u001b[0;32m--> 251\u001b[0m     \u001b[43mattempt_download\u001b[49m\u001b[43m(\u001b[49m\u001b[43mw\u001b[49m\u001b[43m)\u001b[49m\n\u001b[1;32m    252\u001b[0m     ckpt \u001b[38;5;241m=\u001b[39m torch\u001b[38;5;241m.\u001b[39mload(w, map_location\u001b[38;5;241m=\u001b[39mmap_location)  \u001b[38;5;66;03m# load\u001b[39;00m\n\u001b[1;32m    253\u001b[0m     model\u001b[38;5;241m.\u001b[39mappend(ckpt[\u001b[38;5;124m'\u001b[39m\u001b[38;5;124mema\u001b[39m\u001b[38;5;124m'\u001b[39m \u001b[38;5;28;01mif\u001b[39;00m ckpt\u001b[38;5;241m.\u001b[39mget(\u001b[38;5;124m'\u001b[39m\u001b[38;5;124mema\u001b[39m\u001b[38;5;124m'\u001b[39m) \u001b[38;5;28;01melse\u001b[39;00m \u001b[38;5;124m'\u001b[39m\u001b[38;5;124mmodel\u001b[39m\u001b[38;5;124m'\u001b[39m]\u001b[38;5;241m.\u001b[39mfloat()\u001b[38;5;241m.\u001b[39mfuse()\u001b[38;5;241m.\u001b[39meval())  \u001b[38;5;66;03m# FP32 model\u001b[39;00m\n",
      "File \u001b[0;32m~/Documents/RE1/./yolov7/utils/google_utils.py:31\u001b[0m, in \u001b[0;36mattempt_download\u001b[0;34m(file, repo)\u001b[0m\n\u001b[1;32m     28\u001b[0m \u001b[38;5;28;01mexcept\u001b[39;00m:  \u001b[38;5;66;03m# fallback plan\u001b[39;00m\n\u001b[1;32m     29\u001b[0m     assets \u001b[38;5;241m=\u001b[39m [\u001b[38;5;124m'\u001b[39m\u001b[38;5;124myolov7.pt\u001b[39m\u001b[38;5;124m'\u001b[39m, \u001b[38;5;124m'\u001b[39m\u001b[38;5;124myolov7-tiny.pt\u001b[39m\u001b[38;5;124m'\u001b[39m, \u001b[38;5;124m'\u001b[39m\u001b[38;5;124myolov7x.pt\u001b[39m\u001b[38;5;124m'\u001b[39m, \u001b[38;5;124m'\u001b[39m\u001b[38;5;124myolov7-d6.pt\u001b[39m\u001b[38;5;124m'\u001b[39m, \u001b[38;5;124m'\u001b[39m\u001b[38;5;124myolov7-e6.pt\u001b[39m\u001b[38;5;124m'\u001b[39m, \n\u001b[1;32m     30\u001b[0m               \u001b[38;5;124m'\u001b[39m\u001b[38;5;124myolov7-e6e.pt\u001b[39m\u001b[38;5;124m'\u001b[39m, \u001b[38;5;124m'\u001b[39m\u001b[38;5;124myolov7-w6.pt\u001b[39m\u001b[38;5;124m'\u001b[39m]\n\u001b[0;32m---> 31\u001b[0m     tag \u001b[38;5;241m=\u001b[39m \u001b[43msubprocess\u001b[49m\u001b[38;5;241;43m.\u001b[39;49m\u001b[43mcheck_output\u001b[49m\u001b[43m(\u001b[49m\u001b[38;5;124;43m'\u001b[39;49m\u001b[38;5;124;43mgit tag\u001b[39;49m\u001b[38;5;124;43m'\u001b[39;49m\u001b[43m,\u001b[49m\u001b[43m \u001b[49m\u001b[43mshell\u001b[49m\u001b[38;5;241;43m=\u001b[39;49m\u001b[38;5;28;43;01mTrue\u001b[39;49;00m\u001b[43m)\u001b[49m\u001b[38;5;241;43m.\u001b[39;49m\u001b[43mdecode\u001b[49m\u001b[43m(\u001b[49m\u001b[43m)\u001b[49m\u001b[38;5;241;43m.\u001b[39;49m\u001b[43msplit\u001b[49m\u001b[43m(\u001b[49m\u001b[43m)\u001b[49m\u001b[43m[\u001b[49m\u001b[38;5;241;43m-\u001b[39;49m\u001b[38;5;241;43m1\u001b[39;49m\u001b[43m]\u001b[49m\n\u001b[1;32m     33\u001b[0m name \u001b[38;5;241m=\u001b[39m file\u001b[38;5;241m.\u001b[39mname\n\u001b[1;32m     34\u001b[0m \u001b[38;5;28;01mif\u001b[39;00m name \u001b[38;5;129;01min\u001b[39;00m assets:\n",
      "\u001b[0;31mIndexError\u001b[0m: list index out of range"
     ]
    }
   ],
   "source": [
    "#Load model, edit yolov7.pt\n",
    "model, stride, device = load_model(config_dict, '../yolov7.pt')\n"
   ]
  },
  {
   "cell_type": "code",
   "execution_count": 11,
   "id": "40bd9186",
   "metadata": {},
   "outputs": [
    {
     "ename": "NameError",
     "evalue": "name 'stride' is not defined",
     "output_type": "error",
     "traceback": [
      "\u001b[0;31m---------------------------------------------------------------------------\u001b[0m",
      "\u001b[0;31mNameError\u001b[0m                                 Traceback (most recent call last)",
      "Cell \u001b[0;32mIn [11], line 2\u001b[0m\n\u001b[1;32m      1\u001b[0m \u001b[38;5;66;03m#Resize, pad\u001b[39;00m\n\u001b[0;32m----> 2\u001b[0m img \u001b[38;5;241m=\u001b[39m preprocessing(config_dict, img0, \u001b[43mstride\u001b[49m, device) \n\u001b[1;32m      3\u001b[0m inference_shape \u001b[38;5;241m=\u001b[39m img\u001b[38;5;241m.\u001b[39mshape\n\u001b[1;32m      5\u001b[0m \u001b[38;5;66;03m#Inference\u001b[39;00m\n",
      "\u001b[0;31mNameError\u001b[0m: name 'stride' is not defined"
     ]
    }
   ],
   "source": [
    "\n",
    "#Resize, pad\n",
    "img = preprocessing(config_dict, img0, stride, device) \n",
    "inference_shape = img.shape\n",
    "\n",
    "#Inference\n",
    "pred = model(img, augment=config_dict['augment'])[0] #Shape (1, num_preds, 85)\n",
    "\n",
    "#nms and scale coordinates\n",
    "pred = postprocessing(config_dict, pred, original_shape, inference_shape)\n"
   ]
  },
  {
   "cell_type": "code",
   "execution_count": null,
   "id": "e64368e6",
   "metadata": {},
   "outputs": [],
   "source": []
  }
 ],
 "metadata": {
  "kernelspec": {
   "display_name": "Python 3 (ipykernel)",
   "language": "python",
   "name": "python3"
  },
  "language_info": {
   "codemirror_mode": {
    "name": "ipython",
    "version": 3
   },
   "file_extension": ".py",
   "mimetype": "text/x-python",
   "name": "python",
   "nbconvert_exporter": "python",
   "pygments_lexer": "ipython3",
   "version": "3.8.13"
  }
 },
 "nbformat": 4,
 "nbformat_minor": 5
}
